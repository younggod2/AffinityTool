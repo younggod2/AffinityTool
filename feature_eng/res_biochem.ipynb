{
 "cells": [
  {
   "cell_type": "code",
   "execution_count": 4,
   "metadata": {},
   "outputs": [],
   "source": [
    "# функция из статьи 10.1109/TCBB.2022.3233627 \n",
    "def residue_feature(AA):\n",
    "    def AAcharge(AA):\n",
    "        if AA in ['D','E']:\n",
    "            return -1.\n",
    "        elif AA in ['R','H','K']:\n",
    "            return 1.\n",
    "        else:\n",
    "            return 0.\n",
    "    residueFeature = []\n",
    "    Hydro = ['A', 'V', 'I', 'L', 'M', 'F', 'Y', 'W']\n",
    "    PolarAll = ['S','T','N','Q','R','H','K','D','E']\n",
    "    PolarUncharged = ['S','T','N','Q']\n",
    "    PolarPosCharged = ['R','H','K']\n",
    "    PolarNegCharged = ['D','E']\n",
    "    SpecialCase = ['C','U','G','P']\n",
    "    AAvolume = {'A':88.6, 'R':173.4, 'D':111.1, 'N':114.1, 'C':108.5, 'E':138.4, 'Q':143.8, 'G':60.1, 'H':153.2, 'I':166.7, 'L':166.7, 'K':168.6, 'M':162.9, 'F':189.9, 'P':112.7, 'S':89., 'T':116.1, 'W':227.8, 'Y':193.6, 'V':140. }\n",
    "    AAhydropathy = {'A':1.8, 'R':-4.5, 'N':-3.5, 'D': -3.5, 'C': 2.5, 'E':-3.5, 'Q':-3.5, 'G':-0.4, 'H':-3.2, 'I':4.5, 'L':3.8, 'K':-3.9, 'M':1.9, 'F':2.8, 'P':-1.6, 'S':-0.8, 'T':-0.7, 'W':-0.9, 'Y':-1.3, 'V':4.2}\n",
    "    AAarea = {'A':115.,'R':225.,'D':150.,'N':160.,'C':135.,'E':190.,'Q':180.,'G':75.,'H':195.,'I':175.,'L':170.,'K':200.,'M':185.,'F':210.,'P':145.,'S':115.,'T':140.,'W':255.,'Y':230.,'V':155.}\n",
    "    AAweight = {'A':89.094,'R':174.203,'N':132.119,'D':133.104,'C':121.154,'E':147.131,'Q':146.146,'G':75.067,'H':155.156,'I':131.175,'L':131.175,'K':146.189,'M':149.208,'F':165.192,'P':115.132,'S':105.093,'T':119.12,'W':204.228,'Y':181.191,'V':117.148}\n",
    "    Groups = [Hydro, PolarAll, PolarUncharged, PolarPosCharged, PolarNegCharged, SpecialCase]\n",
    "    # AA = residue\n",
    "    for Group in Groups:\n",
    "        if AA in Group:\n",
    "            residueFeature.append(1.0)\n",
    "        else:\n",
    "            residueFeature.append(0.0)\n",
    "    residueFeature.append(AAvolume[AA])\n",
    "    residueFeature.append(AAhydropathy[AA])\n",
    "    residueFeature.append(AAarea[AA])\n",
    "    residueFeature.append(AAweight[AA])\n",
    "    residueFeature.append(AAcharge(AA))\n",
    "\n",
    "    flex = {'A':'1','R':'81','N':'36','D':'18','C':'3','E':'54','Q':'108','G':'1','H':'36','I':'9','L':'9','K':'81','M':'27','F':'18','P':'2','S':'3','T':'3','W':'36','Y':'18','V':'3'}\n",
    "    flexbility = flex[AA]\n",
    "    residueFeature.append(flexbility)\n",
    "\n",
    "    if AA in ('A','G','I','L','P','V'):chemical = 0\n",
    "    elif AA in ('R','H','K'):chemical = 1\n",
    "    elif AA in ('D','E'):chemical = 2\n",
    "    elif AA in ('N','Q'):chemical = 3\n",
    "    elif AA in ('C','M'):chemical = 4\n",
    "    elif AA in ('S','T'):chemical = 5\n",
    "    elif AA in ('F','W','Y'):chemical = 6\n",
    "    residueFeature.append(chemical)\n",
    "\n",
    "    if AA in ('G','A','S'):size = 0\n",
    "    elif AA in ('C','D','P','N','T'):size = 1\n",
    "    elif AA in ('E','V','Q','H'):size = 2\n",
    "    elif AA in ('M','I','L','K','R'):size = 3\n",
    "    elif AA in ('F','Y','W'):size = 4\n",
    "    residueFeature.append(size)\n",
    "\n",
    "    if AA in ('R','W','K'):hbonds = 0\n",
    "    if AA in ('A','C','G','I','L','M','F','P','V'):hbonds = 1 \n",
    "    if AA in ('N','Q','S','T','H','Y'):hbonds = 3  \n",
    "    if AA in ('D','E'):hbonds = 4\n",
    "    residueFeature.append(hbonds)\n",
    "    return residueFeature"
   ]
  },
  {
   "cell_type": "code",
   "execution_count": 5,
   "metadata": {},
   "outputs": [
    {
     "data": {
      "text/plain": [
       "[1.0, 0.0, 0.0, 0.0, 0.0, 0.0, 189.9, 2.8, 210.0, 165.192, 0.0, '18', 6, 4, 1]"
      ]
     },
     "execution_count": 5,
     "metadata": {},
     "output_type": "execute_result"
    }
   ],
   "source": [
    "residue_feature('F')"
   ]
  },
  {
   "cell_type": "markdown",
   "metadata": {},
   "source": [
    "Изменим эту функцию под задачу проекта,\n",
    "\n",
    "уберем группу, к которой принадлежит АК, это у нас уже описывается через pharmacophore_count"
   ]
  },
  {
   "cell_type": "code",
   "execution_count": 1,
   "metadata": {},
   "outputs": [],
   "source": [
    "# немного измененная функция из статьи 10.1109/TCBB.2022.3233627 \n",
    "def residue_feature(AA) -> np.array:\n",
    "    def AAcharge(AA):\n",
    "        if AA in ['D','E']:\n",
    "            return -1.\n",
    "        elif AA in ['R','H','K']:\n",
    "            return 1.\n",
    "        else:\n",
    "            return 0.\n",
    "\n",
    "    residueFeature = []\n",
    "\n",
    "    AAvolume = {'A':88.6, 'R':173.4, 'D':111.1, 'N':114.1, 'C':108.5, 'E':138.4, 'Q':143.8, 'G':60.1, 'H':153.2, 'I':166.7, 'L':166.7, 'K':168.6, 'M':162.9, 'F':189.9, 'P':112.7, 'S':89., 'T':116.1, 'W':227.8, 'Y':193.6, 'V':140. }\n",
    "    AAhydropathy = {'A':1.8, 'R':-4.5, 'N':-3.5, 'D': -3.5, 'C': 2.5, 'E':-3.5, 'Q':-3.5, 'G':-0.4, 'H':-3.2, 'I':4.5, 'L':3.8, 'K':-3.9, 'M':1.9, 'F':2.8, 'P':-1.6, 'S':-0.8, 'T':-0.7, 'W':-0.9, 'Y':-1.3, 'V':4.2}\n",
    "    AAarea = {'A':115.,'R':225.,'D':150.,'N':160.,'C':135.,'E':190.,'Q':180.,'G':75.,'H':195.,'I':175.,'L':170.,'K':200.,'M':185.,'F':210.,'P':145.,'S':115.,'T':140.,'W':255.,'Y':230.,'V':155.}\n",
    "    AAweight = {'A':89.094,'R':174.203,'N':132.119,'D':133.104,'C':121.154,'E':147.131,'Q':146.146,'G':75.067,'H':155.156,'I':131.175,'L':131.175,'K':146.189,'M':149.208,'F':165.192,'P':115.132,'S':105.093,'T':119.12,'W':204.228,'Y':181.191,'V':117.148}\n",
    "    AAflexibily = {'A':'1','R':'81','N':'36','D':'18','C':'3','E':'54','Q':'108','G':'1','H':'36','I':'9','L':'9','K':'81','M':'27','F':'18','P':'2','S':'3','T':'3','W':'36','Y':'18','V':'3'}\n",
    "    \n",
    "    residueFeature.append(AAvolume[AA])\n",
    "    residueFeature.append(AAhydropathy[AA])\n",
    "    residueFeature.append(AAarea[AA])\n",
    "    residueFeature.append(AAweight[AA])\n",
    "    residueFeature.append(AAcharge(AA))\n",
    "    residueFeature.append(AAflexibily[AA])\n",
    "\n",
    "    if AA in ('A','G','I','L','P','V'):chemical = 0\n",
    "    elif AA in ('R','H','K'):chemical = 1\n",
    "    elif AA in ('D','E'):chemical = 2\n",
    "    elif AA in ('N','Q'):chemical = 3\n",
    "    elif AA in ('C','M'):chemical = 4\n",
    "    elif AA in ('S','T'):chemical = 5\n",
    "    elif AA in ('F','W','Y'):chemical = 6\n",
    "    residueFeature.append(chemical)\n",
    "\n",
    "    if AA in ('G','A','S'):size = 0\n",
    "    elif AA in ('C','D','P','N','T'):size = 1\n",
    "    elif AA in ('E','V','Q','H'):size = 2\n",
    "    elif AA in ('M','I','L','K','R'):size = 3\n",
    "    elif AA in ('F','Y','W'):size = 4\n",
    "    residueFeature.append(size)\n",
    "\n",
    "    if AA in ('R','W','K'):hbonds = 0\n",
    "    if AA in ('A','C','G','I','L','M','F','P','V'):hbonds = 1 \n",
    "    if AA in ('N','Q','S','T','H','Y'):hbonds = 3  \n",
    "    if AA in ('D','E'):hbonds = 4\n",
    "    residueFeature.append(hbonds)\n",
    "    \n",
    "    return np.array(residueFeature).astype(float)"
   ]
  }
 ],
 "metadata": {
  "kernelspec": {
   "display_name": "base",
   "language": "python",
   "name": "python3"
  },
  "language_info": {
   "codemirror_mode": {
    "name": "ipython",
    "version": 3
   },
   "file_extension": ".py",
   "mimetype": "text/x-python",
   "name": "python",
   "nbconvert_exporter": "python",
   "pygments_lexer": "ipython3",
   "version": "3.10.13"
  }
 },
 "nbformat": 4,
 "nbformat_minor": 2
}
