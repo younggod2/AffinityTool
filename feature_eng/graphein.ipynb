{
 "cells": [
  {
   "cell_type": "code",
   "execution_count": 9,
   "metadata": {},
   "outputs": [],
   "source": [
    "import warnings\n",
    "warnings.filterwarnings('ignore')\n",
    "import networkx as nx\n",
    "import numpy as np"
   ]
  },
  {
   "cell_type": "code",
   "execution_count": 3,
   "metadata": {},
   "outputs": [
    {
     "name": "stdout",
     "output_type": "stream",
     "text": [
      "Downloading PDB structure '1fc2'...\n"
     ]
    }
   ],
   "source": [
    "from Bio.PDB import PDBList\n",
    "import os\n",
    "\n",
    "# Download PDB file from RCSB\n",
    "def download_pdb(pdb_id):\n",
    "    pdb_list = PDBList()\n",
    "    pdb_list.retrieve_pdb_file(pdb_id, pdir='./PDBs', file_format=\"pdb\")\n",
    "    os.rename(f'./PDBs/pdb{pdb_id}.ent', f'./PDBs/{pdb_id}.pdb')\n",
    "download_pdb('1fc2')"
   ]
  },
  {
   "cell_type": "code",
   "execution_count": 10,
   "metadata": {},
   "outputs": [
    {
     "data": {
      "text/plain": [
       "{'granularity': 'atom',\n",
       " 'keep_hets': [],\n",
       " 'insertions': True,\n",
       " 'alt_locs': 'max_occupancy',\n",
       " 'pdb_dir': None,\n",
       " 'verbose': False,\n",
       " 'exclude_waters': True,\n",
       " 'deprotonate': False,\n",
       " 'protein_df_processing_functions': None,\n",
       " 'edge_construction_functions': [<function graphein.protein.edges.atomic.add_atomic_edges(G: networkx.classes.graph.Graph, tolerance: float = 0.56) -> networkx.classes.graph.Graph>],\n",
       " 'node_metadata_functions': [<function graphein.protein.features.nodes.amino_acid.meiler_embedding(n: str, d: Dict[str, Any], return_array: bool = False) -> Union[pandas.core.series.Series, numpy.ndarray]>],\n",
       " 'edge_metadata_functions': None,\n",
       " 'graph_metadata_functions': None,\n",
       " 'get_contacts_config': None,\n",
       " 'dssp_config': None}"
      ]
     },
     "execution_count": 10,
     "metadata": {},
     "output_type": "execute_result"
    }
   ],
   "source": [
    "from graphein.protein.config import ProteinGraphConfig\n",
    "from graphein.protein.edges.atomic import add_atomic_edges\n",
    "params_to_change = {\"granularity\": \"atom\", \"edge_construction_functions\": [add_atomic_edges]}\n",
    "\n",
    "config = ProteinGraphConfig(**params_to_change)\n",
    "config.dict()"
   ]
  },
  {
   "cell_type": "code",
   "execution_count": 2,
   "metadata": {},
   "outputs": [
    {
     "ename": "NameError",
     "evalue": "name 'config' is not defined",
     "output_type": "error",
     "traceback": [
      "\u001b[0;31m---------------------------------------------------------------------------\u001b[0m",
      "\u001b[0;31mNameError\u001b[0m                                 Traceback (most recent call last)",
      "Cell \u001b[0;32mIn[2], line 3\u001b[0m\n\u001b[1;32m      1\u001b[0m \u001b[38;5;28;01mfrom\u001b[39;00m \u001b[38;5;21;01mgraphein\u001b[39;00m\u001b[38;5;21;01m.\u001b[39;00m\u001b[38;5;21;01mprotein\u001b[39;00m\u001b[38;5;21;01m.\u001b[39;00m\u001b[38;5;21;01mgraphs\u001b[39;00m \u001b[38;5;28;01mimport\u001b[39;00m construct_graph\n\u001b[0;32m----> 3\u001b[0m graph \u001b[38;5;241m=\u001b[39m construct_graph(config\u001b[38;5;241m=\u001b[39m\u001b[43mconfig\u001b[49m, pdb_code\u001b[38;5;241m=\u001b[39m\u001b[38;5;124m\"\u001b[39m\u001b[38;5;124m1FC2\u001b[39m\u001b[38;5;124m\"\u001b[39m)\n",
      "\u001b[0;31mNameError\u001b[0m: name 'config' is not defined"
     ]
    }
   ],
   "source": [
    "from graphein.protein.graphs import construct_graph\n",
    "\n",
    "graph = construct_graph(config=config, pdb_code=\"1FC2\")"
   ]
  },
  {
   "cell_type": "code",
   "execution_count": null,
   "metadata": {},
   "outputs": [],
   "source": [
    "# поиск координат СА мутирующего остатка, пример D178A C\n",
    "\n",
    "\n",
    "res = convert_to_three_letter('D')\n",
    "mut = '178'\n",
    "chain = 'C'\n",
    "\n",
    "for node, data in graph.nodes(data=True):\n",
    "    if f'{chain}:{res}:{mut}:CA' in node:\n",
    "        mut_center = data['coords']"
   ]
  },
  {
   "cell_type": "code",
   "execution_count": null,
   "metadata": {},
   "outputs": [
    {
     "ename": "NameError",
     "evalue": "name 'graph' is not defined",
     "output_type": "error",
     "traceback": [
      "\u001b[0;31m---------------------------------------------------------------------------\u001b[0m",
      "\u001b[0;31mNameError\u001b[0m                                 Traceback (most recent call last)",
      "Cell \u001b[0;32mIn[2], line 6\u001b[0m\n\u001b[1;32m      2\u001b[0m \u001b[38;5;28;01mfrom\u001b[39;00m \u001b[38;5;21;01mgraphein\u001b[39;00m\u001b[38;5;21;01m.\u001b[39;00m\u001b[38;5;21;01mprotein\u001b[39;00m\u001b[38;5;21;01m.\u001b[39;00m\u001b[38;5;21;01msubgraphs\u001b[39;00m \u001b[38;5;28;01mimport\u001b[39;00m extract_subgraph_from_point\n\u001b[1;32m      5\u001b[0m \u001b[38;5;66;03m# выделение подграфа вокруг мутируемого остатка\u001b[39;00m\n\u001b[0;32m----> 6\u001b[0m subgraph \u001b[38;5;241m=\u001b[39m extract_subgraph_from_point(\u001b[43mgraph\u001b[49m, centre_point\u001b[38;5;241m=\u001b[39m(mut_center), radius\u001b[38;5;241m=\u001b[39m\u001b[38;5;241m10\u001b[39m)\n\u001b[1;32m      8\u001b[0m plotly_protein_structure_graph(subgraph, node_size_min\u001b[38;5;241m=\u001b[39m\u001b[38;5;241m4\u001b[39m, node_size_multiplier\u001b[38;5;241m=\u001b[39m\u001b[38;5;241m2\u001b[39m)\n",
      "\u001b[0;31mNameError\u001b[0m: name 'graph' is not defined"
     ]
    }
   ],
   "source": [
    "from graphein.protein.visualisation import plotly_protein_structure_graph\n",
    "from graphein.protein.subgraphs import extract_subgraph_from_point\n",
    "\n",
    "\n",
    "# выделение подграфа вокруг мутируемого остатка\n",
    "subgraph = extract_subgraph_from_point(graph, centre_point=(mut_center), radius=10)\n",
    "\n",
    "plotly_protein_structure_graph(subgraph, node_size_min=4, node_size_multiplier=2)"
   ]
  },
  {
   "cell_type": "code",
   "execution_count": 1,
   "metadata": {},
   "outputs": [
    {
     "ename": "NameError",
     "evalue": "name 'subgraph' is not defined",
     "output_type": "error",
     "traceback": [
      "\u001b[0;31m---------------------------------------------------------------------------\u001b[0m",
      "\u001b[0;31mNameError\u001b[0m                                 Traceback (most recent call last)",
      "Cell \u001b[0;32mIn[1], line 5\u001b[0m\n\u001b[1;32m      2\u001b[0m \u001b[38;5;28;01mfrom\u001b[39;00m \u001b[38;5;21;01mgraphein\u001b[39;00m\u001b[38;5;21;01m.\u001b[39;00m\u001b[38;5;21;01mprotein\u001b[39;00m\u001b[38;5;21;01m.\u001b[39;00m\u001b[38;5;21;01mgraphs\u001b[39;00m \u001b[38;5;28;01mimport\u001b[39;00m read_pdb_to_dataframe\n\u001b[1;32m      4\u001b[0m pdb_id \u001b[38;5;241m=\u001b[39m \u001b[38;5;124m'\u001b[39m\u001b[38;5;124m1ahw\u001b[39m\u001b[38;5;124m'\u001b[39m\n\u001b[0;32m----> 5\u001b[0m save_graph_to_pdb(\u001b[43msubgraph\u001b[49m, \u001b[38;5;124mf\u001b[39m\u001b[38;5;124m'\u001b[39m\u001b[38;5;124m./cutPDBs/\u001b[39m\u001b[38;5;132;01m{\u001b[39;00mpdb_id\u001b[38;5;132;01m}\u001b[39;00m\u001b[38;5;124m_cut.pdb\u001b[39m\u001b[38;5;124m'\u001b[39m)\n\u001b[1;32m      7\u001b[0m pdb_path\u001b[38;5;241m=\u001b[39m\u001b[38;5;124mf\u001b[39m\u001b[38;5;124m'\u001b[39m\u001b[38;5;124m./cutPDBs/1ahw_cut.pdb\u001b[39m\u001b[38;5;124m'\u001b[39m\n\u001b[1;32m      8\u001b[0m df \u001b[38;5;241m=\u001b[39m read_pdb_to_dataframe(pdb_path)\n",
      "\u001b[0;31mNameError\u001b[0m: name 'subgraph' is not defined"
     ]
    }
   ],
   "source": [
    "from graphein.protein.utils import save_graph_to_pdb\n",
    "from graphein.protein.graphs import read_pdb_to_dataframe\n",
    "\n",
    "pdb_id = '1ahw'\n",
    "save_graph_to_pdb(subgraph, f'./cutPDBs/{pdb_id}_cut.pdb')\n",
    "\n",
    "pdb_path=f'./cutPDBs/1ahw_cut.pdb'\n",
    "df = read_pdb_to_dataframe(pdb_path)\n",
    "df"
   ]
  },
  {
   "cell_type": "code",
   "execution_count": null,
   "metadata": {},
   "outputs": [
    {
     "data": {
      "text/plain": [
       "array([[0.00000000e+00, 1.27269360e+00, 1.25755557e+00, ...,\n",
       "        1.60493830e+01, 1.83720041e+01, 1.69634346e+01],\n",
       "       [1.27269360e+00, 0.00000000e+00, 2.22531818e+00, ...,\n",
       "        1.60176225e+01, 1.80948968e+01, 1.67239032e+01],\n",
       "       [1.25755557e+00, 2.22531818e+00, 0.00000000e+00, ...,\n",
       "        1.56269151e+01, 1.82722909e+01, 1.69115330e+01],\n",
       "       ...,\n",
       "       [1.60493830e+01, 1.60176225e+01, 1.56269151e+01, ...,\n",
       "        9.53674316e-07, 5.14692588e+00, 5.05378957e+00],\n",
       "       [1.83720041e+01, 1.80948968e+01, 1.82722909e+01, ...,\n",
       "        5.14692588e+00, 0.00000000e+00, 1.86091832e+00],\n",
       "       [1.69634346e+01, 1.67239032e+01, 1.69115330e+01, ...,\n",
       "        5.05378957e+00, 1.86091832e+00, 0.00000000e+00]])"
      ]
     },
     "execution_count": 174,
     "metadata": {},
     "output_type": "execute_result"
    }
   ],
   "source": [
    "# из датафрейма вытащить матрицу расстояний\n",
    "from graphein.molecule.edges.distance import compute_distmat\n",
    "coords = df.filter(like='_coord')\n",
    "coords\n",
    "\n",
    "distMatrix = compute_distmat(coords)\n",
    "distMatrix"
   ]
  },
  {
   "cell_type": "code",
   "execution_count": null,
   "metadata": {},
   "outputs": [
    {
     "ename": "NameError",
     "evalue": "name 'np' is not defined",
     "output_type": "error",
     "traceback": [
      "\u001b[0;31m---------------------------------------------------------------------------\u001b[0m",
      "\u001b[0;31mNameError\u001b[0m                                 Traceback (most recent call last)",
      "Cell \u001b[0;32mIn[15], line 4\u001b[0m\n\u001b[1;32m      1\u001b[0m \u001b[38;5;66;03m# потом эту матрицу подаем на вход функции которая выдает массив атомов которые находятся друг от друга на расстоянии r\u001b[39;00m\n\u001b[1;32m      2\u001b[0m \u001b[38;5;28;01mfrom\u001b[39;00m \u001b[38;5;21;01mgraphein\u001b[39;00m\u001b[38;5;21;01m.\u001b[39;00m\u001b[38;5;21;01mmolecule\u001b[39;00m\u001b[38;5;21;01m.\u001b[39;00m\u001b[38;5;21;01medges\u001b[39;00m\u001b[38;5;21;01m.\u001b[39;00m\u001b[38;5;21;01mdistance\u001b[39;00m \u001b[38;5;28;01mimport\u001b[39;00m get_interacting_atoms\n\u001b[0;32m----> 4\u001b[0m \u001b[43mnp\u001b[49m\u001b[38;5;241m.\u001b[39mset_printoptions(threshold\u001b[38;5;241m=\u001b[39m\u001b[38;5;241m200\u001b[39m)\n\u001b[1;32m      6\u001b[0m \u001b[38;5;28;01mdef\u001b[39;00m \u001b[38;5;21mget_interacting_atoms\u001b[39m(angstroms: \u001b[38;5;28mfloat\u001b[39m, distmat: pd\u001b[38;5;241m.\u001b[39mDataFrame):\n\u001b[1;32m      7\u001b[0m \u001b[38;5;250m    \u001b[39m\u001b[38;5;124;03m\"\"\"Find the atoms that are within a particular radius of one another.\"\"\"\u001b[39;00m\n",
      "\u001b[0;31mNameError\u001b[0m: name 'np' is not defined"
     ]
    }
   ],
   "source": [
    "# потом эту матрицу подаем на вход функции которая выдает массив атомов которые находятся друг от друга на расстоянии r\n",
    "from graphein.molecule.edges.distance import get_interacting_atoms\n",
    "\n",
    "np.set_printoptions(threshold=200)\n",
    "\n",
    "def get_interacting_atoms(angstroms: float, distmat: pd.DataFrame):\n",
    "    \"\"\"Find the atoms that are within a particular radius of one another.\"\"\"\n",
    "    return np.where(distmat <= angstroms, 0, 1)\n",
    "\n",
    "residue_environment_dist = 10\n",
    "Dmin = 0\n",
    "Dstep = 2\n",
    "Dmax = residue_environment_dist\n",
    "\n",
    "\n",
    "\n",
    "arr = get_interacting_atoms(10, distMatrix)\n",
    "\n",
    "from IPython.display import display\n",
    "import numpy as np\n",
    "frequency = np.sum(arr[arr != 0]) / 2\n",
    "print(frequency)\n",
    "\n",
    "# Пример создания и вывода большого массива\n",
    "display(arr)\n"
   ]
  },
  {
   "cell_type": "code",
   "execution_count": null,
   "metadata": {},
   "outputs": [
    {
     "data": {
      "text/plain": [
       "(array([0, 1]), array([0, 0]))"
      ]
     },
     "execution_count": 153,
     "metadata": {},
     "output_type": "execute_result"
    }
   ],
   "source": [
    "from graphein.protein.features.nodes.amino_acid import load_expasy_scales()\n",
    "graphein.protein.features.nodes.amino_acid.expasy_protein_scale"
   ]
  },
  {
   "cell_type": "code",
   "execution_count": null,
   "metadata": {},
   "outputs": [],
   "source": [
    "import graphein\n",
    "graphein.molecule.features.graph.molecule.mol_descriptors()"
   ]
  }
 ],
 "metadata": {
  "kernelspec": {
   "display_name": "base",
   "language": "python",
   "name": "python3"
  },
  "language_info": {
   "codemirror_mode": {
    "name": "ipython",
    "version": 3
   },
   "file_extension": ".py",
   "mimetype": "text/x-python",
   "name": "python",
   "nbconvert_exporter": "python",
   "pygments_lexer": "ipython3",
   "version": "3.10.13"
  }
 },
 "nbformat": 4,
 "nbformat_minor": 2
}
