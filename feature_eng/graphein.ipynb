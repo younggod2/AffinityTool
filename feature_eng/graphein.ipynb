{
 "cells": [
  {
   "cell_type": "code",
   "execution_count": 1,
   "metadata": {},
   "outputs": [],
   "source": [
    "import warnings\n",
    "warnings.filterwarnings('ignore')\n",
    "import networkx as nx\n",
    "import numpy as np"
   ]
  },
  {
   "cell_type": "code",
   "execution_count": 2,
   "metadata": {},
   "outputs": [
    {
     "name": "stdout",
     "output_type": "stream",
     "text": [
      "Downloading PDB structure '1fc2'...\n"
     ]
    }
   ],
   "source": [
    "from Bio.PDB import PDBList\n",
    "import os\n",
    "\n",
    "# Download PDB file from RCSB\n",
    "def download_pdb(pdb_id):\n",
    "    pdb_list = PDBList()\n",
    "    pdb_list.retrieve_pdb_file(pdb_id, pdir='./PDBs', file_format=\"pdb\")\n",
    "    os.rename(f'./PDBs/pdb{pdb_id}.ent', f'./PDBs/{pdb_id}.pdb')"
   ]
  },
  {
   "cell_type": "code",
   "execution_count": 3,
   "metadata": {},
   "outputs": [
    {
     "data": {
      "text/html": [
       "<pre style=\"white-space:pre;overflow-x:auto;line-height:normal;font-family:Menlo,'DejaVu Sans Mono',consolas,'Courier New',monospace\"><span style=\"color: #7fbfbf; text-decoration-color: #7fbfbf\">[03/22/24 08:58:54] </span><span style=\"color: #800000; text-decoration-color: #800000\">WARNING </span> To use the Graphein submodule                                         <a href=\"file:///Users/chekalin/miniforge3/lib/python3.10/site-packages/graphein/protein/features/sequence/embeddings.py\" target=\"_blank\"><span style=\"color: #7f7f7f; text-decoration-color: #7f7f7f\">embeddings.py</span></a><span style=\"color: #7f7f7f; text-decoration-color: #7f7f7f\">:</span><a href=\"file:///Users/chekalin/miniforge3/lib/python3.10/site-packages/graphein/protein/features/sequence/embeddings.py#34\" target=\"_blank\"><span style=\"color: #7f7f7f; text-decoration-color: #7f7f7f\">34</span></a>\n",
       "<span style=\"color: #7fbfbf; text-decoration-color: #7fbfbf\">                    </span>         graphein.protein.features.sequence.embeddings, you need to install:   <span style=\"color: #7f7f7f; text-decoration-color: #7f7f7f\">                </span>\n",
       "<span style=\"color: #7fbfbf; text-decoration-color: #7fbfbf\">                    </span>         torch                                                                 <span style=\"color: #7f7f7f; text-decoration-color: #7f7f7f\">                </span>\n",
       "<span style=\"color: #7fbfbf; text-decoration-color: #7fbfbf\">                    </span>         To do so, use the following command: conda install -c pytorch torch   <span style=\"color: #7f7f7f; text-decoration-color: #7f7f7f\">                </span>\n",
       "</pre>\n"
      ],
      "text/plain": [
       "\u001b[2;36m[03/22/24 08:58:54]\u001b[0m\u001b[2;36m \u001b[0m\u001b[31mWARNING \u001b[0m To use the Graphein submodule                                         \u001b]8;id=913834;file:///Users/chekalin/miniforge3/lib/python3.10/site-packages/graphein/protein/features/sequence/embeddings.py\u001b\\\u001b[2membeddings.py\u001b[0m\u001b]8;;\u001b\\\u001b[2m:\u001b[0m\u001b]8;id=323761;file:///Users/chekalin/miniforge3/lib/python3.10/site-packages/graphein/protein/features/sequence/embeddings.py#34\u001b\\\u001b[2m34\u001b[0m\u001b]8;;\u001b\\\n",
       "\u001b[2;36m                    \u001b[0m         graphein.protein.features.sequence.embeddings, you need to install:   \u001b[2m                \u001b[0m\n",
       "\u001b[2;36m                    \u001b[0m         torch                                                                 \u001b[2m                \u001b[0m\n",
       "\u001b[2;36m                    \u001b[0m         To do so, use the following command: conda install -c pytorch torch   \u001b[2m                \u001b[0m\n"
      ]
     },
     "metadata": {},
     "output_type": "display_data"
    },
    {
     "data": {
      "text/html": [
       "<pre style=\"white-space:pre;overflow-x:auto;line-height:normal;font-family:Menlo,'DejaVu Sans Mono',consolas,'Courier New',monospace\"><span style=\"color: #7fbfbf; text-decoration-color: #7fbfbf\">                    </span><span style=\"color: #800000; text-decoration-color: #800000\">WARNING </span> To use the Graphein submodule                                         <a href=\"file:///Users/chekalin/miniforge3/lib/python3.10/site-packages/graphein/protein/features/sequence/embeddings.py\" target=\"_blank\"><span style=\"color: #7f7f7f; text-decoration-color: #7f7f7f\">embeddings.py</span></a><span style=\"color: #7f7f7f; text-decoration-color: #7f7f7f\">:</span><a href=\"file:///Users/chekalin/miniforge3/lib/python3.10/site-packages/graphein/protein/features/sequence/embeddings.py#45\" target=\"_blank\"><span style=\"color: #7f7f7f; text-decoration-color: #7f7f7f\">45</span></a>\n",
       "<span style=\"color: #7fbfbf; text-decoration-color: #7fbfbf\">                    </span>         graphein.protein.features.sequence.embeddings, you need to install:   <span style=\"color: #7f7f7f; text-decoration-color: #7f7f7f\">                </span>\n",
       "<span style=\"color: #7fbfbf; text-decoration-color: #7fbfbf\">                    </span>         biovec                                                                <span style=\"color: #7f7f7f; text-decoration-color: #7f7f7f\">                </span>\n",
       "<span style=\"color: #7fbfbf; text-decoration-color: #7fbfbf\">                    </span>         biovec cannot be installed via conda                                  <span style=\"color: #7f7f7f; text-decoration-color: #7f7f7f\">                </span>\n",
       "<span style=\"color: #7fbfbf; text-decoration-color: #7fbfbf\">                    </span>         Alternatively, you can install graphein with the extras:              <span style=\"color: #7f7f7f; text-decoration-color: #7f7f7f\">                </span>\n",
       "<span style=\"color: #7fbfbf; text-decoration-color: #7fbfbf\">                    </span>                                                                               <span style=\"color: #7f7f7f; text-decoration-color: #7f7f7f\">                </span>\n",
       "<span style=\"color: #7fbfbf; text-decoration-color: #7fbfbf\">                    </span>         pip install graphein<span style=\"font-weight: bold\">[</span>extras<span style=\"font-weight: bold\">]</span>                                          <span style=\"color: #7f7f7f; text-decoration-color: #7f7f7f\">                </span>\n",
       "</pre>\n"
      ],
      "text/plain": [
       "\u001b[2;36m                   \u001b[0m\u001b[2;36m \u001b[0m\u001b[31mWARNING \u001b[0m To use the Graphein submodule                                         \u001b]8;id=182550;file:///Users/chekalin/miniforge3/lib/python3.10/site-packages/graphein/protein/features/sequence/embeddings.py\u001b\\\u001b[2membeddings.py\u001b[0m\u001b]8;;\u001b\\\u001b[2m:\u001b[0m\u001b]8;id=149482;file:///Users/chekalin/miniforge3/lib/python3.10/site-packages/graphein/protein/features/sequence/embeddings.py#45\u001b\\\u001b[2m45\u001b[0m\u001b]8;;\u001b\\\n",
       "\u001b[2;36m                    \u001b[0m         graphein.protein.features.sequence.embeddings, you need to install:   \u001b[2m                \u001b[0m\n",
       "\u001b[2;36m                    \u001b[0m         biovec                                                                \u001b[2m                \u001b[0m\n",
       "\u001b[2;36m                    \u001b[0m         biovec cannot be installed via conda                                  \u001b[2m                \u001b[0m\n",
       "\u001b[2;36m                    \u001b[0m         Alternatively, you can install graphein with the extras:              \u001b[2m                \u001b[0m\n",
       "\u001b[2;36m                    \u001b[0m                                                                               \u001b[2m                \u001b[0m\n",
       "\u001b[2;36m                    \u001b[0m         pip install graphein\u001b[1m[\u001b[0mextras\u001b[1m]\u001b[0m                                          \u001b[2m                \u001b[0m\n"
      ]
     },
     "metadata": {},
     "output_type": "display_data"
    },
    {
     "data": {
      "text/html": [
       "<pre style=\"white-space:pre;overflow-x:auto;line-height:normal;font-family:Menlo,'DejaVu Sans Mono',consolas,'Courier New',monospace\"><span style=\"color: #7fbfbf; text-decoration-color: #7fbfbf\">[03/22/24 08:58:55] </span><span style=\"color: #800000; text-decoration-color: #800000\">WARNING </span> To use the Graphein submodule graphein.protein.visualisation, you  <a href=\"file:///Users/chekalin/miniforge3/lib/python3.10/site-packages/graphein/protein/visualisation.py\" target=\"_blank\"><span style=\"color: #7f7f7f; text-decoration-color: #7f7f7f\">visualisation.py</span></a><span style=\"color: #7f7f7f; text-decoration-color: #7f7f7f\">:</span><a href=\"file:///Users/chekalin/miniforge3/lib/python3.10/site-packages/graphein/protein/visualisation.py#36\" target=\"_blank\"><span style=\"color: #7f7f7f; text-decoration-color: #7f7f7f\">36</span></a>\n",
       "<span style=\"color: #7fbfbf; text-decoration-color: #7fbfbf\">                    </span>         need to install: pytorch3d                                         <span style=\"color: #7f7f7f; text-decoration-color: #7f7f7f\">                   </span>\n",
       "<span style=\"color: #7fbfbf; text-decoration-color: #7fbfbf\">                    </span>         To do so, use the following command: conda install -c pytorch3d    <span style=\"color: #7f7f7f; text-decoration-color: #7f7f7f\">                   </span>\n",
       "<span style=\"color: #7fbfbf; text-decoration-color: #7fbfbf\">                    </span>         pytorch3d                                                          <span style=\"color: #7f7f7f; text-decoration-color: #7f7f7f\">                   </span>\n",
       "</pre>\n"
      ],
      "text/plain": [
       "\u001b[2;36m[03/22/24 08:58:55]\u001b[0m\u001b[2;36m \u001b[0m\u001b[31mWARNING \u001b[0m To use the Graphein submodule graphein.protein.visualisation, you  \u001b]8;id=753588;file:///Users/chekalin/miniforge3/lib/python3.10/site-packages/graphein/protein/visualisation.py\u001b\\\u001b[2mvisualisation.py\u001b[0m\u001b]8;;\u001b\\\u001b[2m:\u001b[0m\u001b]8;id=598795;file:///Users/chekalin/miniforge3/lib/python3.10/site-packages/graphein/protein/visualisation.py#36\u001b\\\u001b[2m36\u001b[0m\u001b]8;;\u001b\\\n",
       "\u001b[2;36m                    \u001b[0m         need to install: pytorch3d                                         \u001b[2m                   \u001b[0m\n",
       "\u001b[2;36m                    \u001b[0m         To do so, use the following command: conda install -c pytorch3d    \u001b[2m                   \u001b[0m\n",
       "\u001b[2;36m                    \u001b[0m         pytorch3d                                                          \u001b[2m                   \u001b[0m\n"
      ]
     },
     "metadata": {},
     "output_type": "display_data"
    },
    {
     "data": {
      "text/html": [
       "<pre style=\"white-space:pre;overflow-x:auto;line-height:normal;font-family:Menlo,'DejaVu Sans Mono',consolas,'Courier New',monospace\"><span style=\"color: #7fbfbf; text-decoration-color: #7fbfbf\">                    </span><span style=\"color: #800000; text-decoration-color: #800000\">WARNING </span> To use the Graphein submodule graphein.protein.meshes, you need to        <a href=\"file:///Users/chekalin/miniforge3/lib/python3.10/site-packages/graphein/protein/meshes.py\" target=\"_blank\"><span style=\"color: #7f7f7f; text-decoration-color: #7f7f7f\">meshes.py</span></a><span style=\"color: #7f7f7f; text-decoration-color: #7f7f7f\">:</span><a href=\"file:///Users/chekalin/miniforge3/lib/python3.10/site-packages/graphein/protein/meshes.py#30\" target=\"_blank\"><span style=\"color: #7f7f7f; text-decoration-color: #7f7f7f\">30</span></a>\n",
       "<span style=\"color: #7fbfbf; text-decoration-color: #7fbfbf\">                    </span>         install: pytorch3d                                                        <span style=\"color: #7f7f7f; text-decoration-color: #7f7f7f\">            </span>\n",
       "<span style=\"color: #7fbfbf; text-decoration-color: #7fbfbf\">                    </span>         To do so, use the following command: conda install -c pytorch3d pytorch3d <span style=\"color: #7f7f7f; text-decoration-color: #7f7f7f\">            </span>\n",
       "</pre>\n"
      ],
      "text/plain": [
       "\u001b[2;36m                   \u001b[0m\u001b[2;36m \u001b[0m\u001b[31mWARNING \u001b[0m To use the Graphein submodule graphein.protein.meshes, you need to        \u001b]8;id=429057;file:///Users/chekalin/miniforge3/lib/python3.10/site-packages/graphein/protein/meshes.py\u001b\\\u001b[2mmeshes.py\u001b[0m\u001b]8;;\u001b\\\u001b[2m:\u001b[0m\u001b]8;id=19032;file:///Users/chekalin/miniforge3/lib/python3.10/site-packages/graphein/protein/meshes.py#30\u001b\\\u001b[2m30\u001b[0m\u001b]8;;\u001b\\\n",
       "\u001b[2;36m                    \u001b[0m         install: pytorch3d                                                        \u001b[2m            \u001b[0m\n",
       "\u001b[2;36m                    \u001b[0m         To do so, use the following command: conda install -c pytorch3d pytorch3d \u001b[2m            \u001b[0m\n"
      ]
     },
     "metadata": {},
     "output_type": "display_data"
    },
    {
     "data": {
      "text/plain": [
       "{'granularity': 'atom',\n",
       " 'keep_hets': [],\n",
       " 'insertions': True,\n",
       " 'alt_locs': 'max_occupancy',\n",
       " 'pdb_dir': None,\n",
       " 'verbose': False,\n",
       " 'exclude_waters': True,\n",
       " 'deprotonate': False,\n",
       " 'protein_df_processing_functions': None,\n",
       " 'edge_construction_functions': [<function graphein.protein.edges.atomic.add_atomic_edges(G: networkx.classes.graph.Graph, tolerance: float = 0.56) -> networkx.classes.graph.Graph>],\n",
       " 'node_metadata_functions': [<function graphein.protein.features.nodes.amino_acid.meiler_embedding(n: str, d: Dict[str, Any], return_array: bool = False) -> Union[pandas.core.series.Series, numpy.ndarray]>],\n",
       " 'edge_metadata_functions': None,\n",
       " 'graph_metadata_functions': None,\n",
       " 'get_contacts_config': None,\n",
       " 'dssp_config': None}"
      ]
     },
     "execution_count": 3,
     "metadata": {},
     "output_type": "execute_result"
    }
   ],
   "source": [
    "from graphein.protein.config import ProteinGraphConfig\n",
    "from graphein.protein.edges.atomic import add_atomic_edges\n",
    "params_to_change = {\"granularity\": \"atom\", \"edge_construction_functions\": [add_atomic_edges]}\n",
    "\n",
    "config = ProteinGraphConfig(**params_to_change)\n",
    "config.dict()"
   ]
  },
  {
   "cell_type": "code",
   "execution_count": 4,
   "metadata": {},
   "outputs": [
    {
     "data": {
      "application/vnd.jupyter.widget-view+json": {
       "model_id": "27a68e2d57ef4fea984dca19ce0e063a",
       "version_major": 2,
       "version_minor": 0
      },
      "text/plain": [
       "Output()"
      ]
     },
     "metadata": {},
     "output_type": "display_data"
    },
    {
     "data": {
      "text/html": [
       "<pre style=\"white-space:pre;overflow-x:auto;line-height:normal;font-family:Menlo,'DejaVu Sans Mono',consolas,'Courier New',monospace\"><span style=\"color: #7fbfbf; text-decoration-color: #7fbfbf\">[03/22/24 08:59:00] </span><span style=\"color: #008000; text-decoration-color: #008000\">DEBUG   </span> Deprotonating protein. This removes H atoms from the pdb_df dataframe    <a href=\"file:///Users/chekalin/miniforge3/lib/python3.10/site-packages/graphein/protein/graphs.py\" target=\"_blank\"><span style=\"color: #7f7f7f; text-decoration-color: #7f7f7f\">graphs.py</span></a><span style=\"color: #7f7f7f; text-decoration-color: #7f7f7f\">:</span><a href=\"file:///Users/chekalin/miniforge3/lib/python3.10/site-packages/graphein/protein/graphs.py#188\" target=\"_blank\"><span style=\"color: #7f7f7f; text-decoration-color: #7f7f7f\">188</span></a>\n",
       "</pre>\n"
      ],
      "text/plain": [
       "\u001b[2;36m[03/22/24 08:59:00]\u001b[0m\u001b[2;36m \u001b[0m\u001b[32mDEBUG   \u001b[0m Deprotonating protein. This removes H atoms from the pdb_df dataframe    \u001b]8;id=823897;file:///Users/chekalin/miniforge3/lib/python3.10/site-packages/graphein/protein/graphs.py\u001b\\\u001b[2mgraphs.py\u001b[0m\u001b]8;;\u001b\\\u001b[2m:\u001b[0m\u001b]8;id=518560;file:///Users/chekalin/miniforge3/lib/python3.10/site-packages/graphein/protein/graphs.py#188\u001b\\\u001b[2m188\u001b[0m\u001b]8;;\u001b\\\n"
      ]
     },
     "metadata": {},
     "output_type": "display_data"
    },
    {
     "data": {
      "text/html": [
       "<pre style=\"white-space:pre;overflow-x:auto;line-height:normal;font-family:Menlo,'DejaVu Sans Mono',consolas,'Courier New',monospace\"><span style=\"color: #7fbfbf; text-decoration-color: #7fbfbf\">                    </span><span style=\"color: #008000; text-decoration-color: #008000\">DEBUG   </span> Detected <span style=\"color: #008080; text-decoration-color: #008080; font-weight: bold\">2010</span> total nodes                                                <a href=\"file:///Users/chekalin/miniforge3/lib/python3.10/site-packages/graphein/protein/graphs.py\" target=\"_blank\"><span style=\"color: #7f7f7f; text-decoration-color: #7f7f7f\">graphs.py</span></a><span style=\"color: #7f7f7f; text-decoration-color: #7f7f7f\">:</span><a href=\"file:///Users/chekalin/miniforge3/lib/python3.10/site-packages/graphein/protein/graphs.py#435\" target=\"_blank\"><span style=\"color: #7f7f7f; text-decoration-color: #7f7f7f\">435</span></a>\n",
       "</pre>\n"
      ],
      "text/plain": [
       "\u001b[2;36m                   \u001b[0m\u001b[2;36m \u001b[0m\u001b[32mDEBUG   \u001b[0m Detected \u001b[1;36m2010\u001b[0m total nodes                                                \u001b]8;id=539815;file:///Users/chekalin/miniforge3/lib/python3.10/site-packages/graphein/protein/graphs.py\u001b\\\u001b[2mgraphs.py\u001b[0m\u001b]8;;\u001b\\\u001b[2m:\u001b[0m\u001b]8;id=720077;file:///Users/chekalin/miniforge3/lib/python3.10/site-packages/graphein/protein/graphs.py#435\u001b\\\u001b[2m435\u001b[0m\u001b]8;;\u001b\\\n"
      ]
     },
     "metadata": {},
     "output_type": "display_data"
    },
    {
     "data": {
      "text/html": [
       "<pre style=\"white-space:pre;overflow-x:auto;line-height:normal;font-family:Menlo,'DejaVu Sans Mono',consolas,'Courier New',monospace\"><span style=\"color: #7fbfbf; text-decoration-color: #7fbfbf\">                    </span><span style=\"color: #008000; text-decoration-color: #008000\">DEBUG   </span> Reading meiler embeddings from:                                       <a href=\"file:///Users/chekalin/miniforge3/lib/python3.10/site-packages/graphein/protein/features/nodes/amino_acid.py\" target=\"_blank\"><span style=\"color: #7f7f7f; text-decoration-color: #7f7f7f\">amino_acid.py</span></a><span style=\"color: #7f7f7f; text-decoration-color: #7f7f7f\">:</span><a href=\"file:///Users/chekalin/miniforge3/lib/python3.10/site-packages/graphein/protein/features/nodes/amino_acid.py#58\" target=\"_blank\"><span style=\"color: #7f7f7f; text-decoration-color: #7f7f7f\">58</span></a>\n",
       "<span style=\"color: #7fbfbf; text-decoration-color: #7fbfbf\">                    </span>         <span style=\"color: #800080; text-decoration-color: #800080\">/Users/chekalin/miniforge3/lib/python3.10/site-packages/graphein/prot</span> <span style=\"color: #7f7f7f; text-decoration-color: #7f7f7f\">                </span>\n",
       "<span style=\"color: #7fbfbf; text-decoration-color: #7fbfbf\">                    </span>         <span style=\"color: #800080; text-decoration-color: #800080\">ein/features/nodes/</span><span style=\"color: #ff00ff; text-decoration-color: #ff00ff\">meiler_embeddings.csv</span>                              <span style=\"color: #7f7f7f; text-decoration-color: #7f7f7f\">                </span>\n",
       "</pre>\n"
      ],
      "text/plain": [
       "\u001b[2;36m                   \u001b[0m\u001b[2;36m \u001b[0m\u001b[32mDEBUG   \u001b[0m Reading meiler embeddings from:                                       \u001b]8;id=791487;file:///Users/chekalin/miniforge3/lib/python3.10/site-packages/graphein/protein/features/nodes/amino_acid.py\u001b\\\u001b[2mamino_acid.py\u001b[0m\u001b]8;;\u001b\\\u001b[2m:\u001b[0m\u001b]8;id=60498;file:///Users/chekalin/miniforge3/lib/python3.10/site-packages/graphein/protein/features/nodes/amino_acid.py#58\u001b\\\u001b[2m58\u001b[0m\u001b]8;;\u001b\\\n",
       "\u001b[2;36m                    \u001b[0m         \u001b[35m/Users/chekalin/miniforge3/lib/python3.10/site-packages/graphein/prot\u001b[0m \u001b[2m                \u001b[0m\n",
       "\u001b[2;36m                    \u001b[0m         \u001b[35mein/features/nodes/\u001b[0m\u001b[95mmeiler_embeddings.csv\u001b[0m                              \u001b[2m                \u001b[0m\n"
      ]
     },
     "metadata": {},
     "output_type": "display_data"
    },
    {
     "data": {
      "text/html": [
       "<pre style=\"white-space:pre;overflow-x:auto;line-height:normal;font-family:Menlo,'DejaVu Sans Mono',consolas,'Courier New',monospace\"></pre>\n"
      ],
      "text/plain": []
     },
     "metadata": {},
     "output_type": "display_data"
    },
    {
     "data": {
      "text/html": [
       "<pre style=\"white-space:pre;overflow-x:auto;line-height:normal;font-family:Menlo,'DejaVu Sans Mono',consolas,'Courier New',monospace\">\n",
       "</pre>\n"
      ],
      "text/plain": [
       "\n"
      ]
     },
     "metadata": {},
     "output_type": "display_data"
    }
   ],
   "source": [
    "from graphein.protein.graphs import construct_graph\n",
    "\n",
    "graph = construct_graph(config=config, pdb_code=\"1FC2\")"
   ]
  },
  {
   "cell_type": "code",
   "execution_count": null,
   "metadata": {},
   "outputs": [],
   "source": [
    "# поиск координат СА мутирующего остатка, пример D178A C\n",
    "\n",
    "\n",
    "res = convert_to_three_letter('D')\n",
    "mut = '178'\n",
    "chain = 'C'\n",
    "\n",
    "for node, data in graph.nodes(data=True):\n",
    "    if f'{chain}:{res}:{mut}:CA' in node:\n",
    "        mut_center = data['coords']"
   ]
  },
  {
   "cell_type": "code",
   "execution_count": 9,
   "metadata": {},
   "outputs": [
    {
     "name": "stdout",
     "output_type": "stream",
     "text": [
      "C:PHE:124:N {'chain_id': 'C', 'residue_name': 'PHE', 'residue_number': 124, 'atom_type': 'N', 'element_symbol': 'N', 'coords': array([-5.228, 31.772, 47.462]), 'b_factor': 55.0, 'meiler': dim_1    2.94\n",
      "dim_2    0.29\n",
      "dim_3    5.89\n",
      "dim_4    1.79\n",
      "dim_5    5.67\n",
      "dim_6    0.30\n",
      "dim_7    0.38\n",
      "Name: PHE, dtype: float64}\n",
      "C:PHE:124:CA {'chain_id': 'C', 'residue_name': 'PHE', 'residue_number': 124, 'atom_type': 'CA', 'element_symbol': 'C', 'coords': array([-5.367, 33.231, 47.536]), 'b_factor': 55.0, 'meiler': dim_1    2.94\n",
      "dim_2    0.29\n",
      "dim_3    5.89\n",
      "dim_4    1.79\n",
      "dim_5    5.67\n",
      "dim_6    0.30\n",
      "dim_7    0.38\n",
      "Name: PHE, dtype: float64}\n",
      "C:PHE:124:C {'chain_id': 'C', 'residue_name': 'PHE', 'residue_number': 124, 'atom_type': 'C', 'element_symbol': 'C', 'coords': array([-6.069, 33.686, 48.805]), 'b_factor': 55.0, 'meiler': dim_1    2.94\n",
      "dim_2    0.29\n",
      "dim_3    5.89\n",
      "dim_4    1.79\n",
      "dim_5    5.67\n",
      "dim_6    0.30\n",
      "dim_7    0.38\n",
      "Name: PHE, dtype: float64}\n",
      "C:PHE:124:O {'chain_id': 'C', 'residue_name': 'PHE', 'residue_number': 124, 'atom_type': 'O', 'element_symbol': 'O', 'coords': array([-7.014, 33.018, 49.303]), 'b_factor': 55.0, 'meiler': dim_1    2.94\n",
      "dim_2    0.29\n",
      "dim_3    5.89\n",
      "dim_4    1.79\n",
      "dim_5    5.67\n",
      "dim_6    0.30\n",
      "dim_7    0.38\n",
      "Name: PHE, dtype: float64}\n",
      "C:PHE:124:CB {'chain_id': 'C', 'residue_name': 'PHE', 'residue_number': 124, 'atom_type': 'CB', 'element_symbol': 'C', 'coords': array([-6.135, 33.799, 46.326]), 'b_factor': 55.0, 'meiler': dim_1    2.94\n",
      "dim_2    0.29\n",
      "dim_3    5.89\n",
      "dim_4    1.79\n",
      "dim_5    5.67\n",
      "dim_6    0.30\n",
      "dim_7    0.38\n",
      "Name: PHE, dtype: float64}\n",
      "C:PHE:124:CG {'chain_id': 'C', 'residue_name': 'PHE', 'residue_number': 124, 'atom_type': 'CG', 'element_symbol': 'C', 'coords': array([-5.719, 35.244, 46.009]), 'b_factor': 55.0, 'meiler': dim_1    2.94\n",
      "dim_2    0.29\n",
      "dim_3    5.89\n",
      "dim_4    1.79\n",
      "dim_5    5.67\n",
      "dim_6    0.30\n",
      "dim_7    0.38\n",
      "Name: PHE, dtype: float64}\n",
      "C:PHE:124:CD1 {'chain_id': 'C', 'residue_name': 'PHE', 'residue_number': 124, 'atom_type': 'CD1', 'element_symbol': 'C', 'coords': array([-4.641, 35.473, 45.185]), 'b_factor': 55.0, 'meiler': dim_1    2.94\n",
      "dim_2    0.29\n",
      "dim_3    5.89\n",
      "dim_4    1.79\n",
      "dim_5    5.67\n",
      "dim_6    0.30\n",
      "dim_7    0.38\n",
      "Name: PHE, dtype: float64}\n",
      "C:PHE:124:CD2 {'chain_id': 'C', 'residue_name': 'PHE', 'residue_number': 124, 'atom_type': 'CD2', 'element_symbol': 'C', 'coords': array([-6.423, 36.304, 46.525]), 'b_factor': 55.0, 'meiler': dim_1    2.94\n",
      "dim_2    0.29\n",
      "dim_3    5.89\n",
      "dim_4    1.79\n",
      "dim_5    5.67\n",
      "dim_6    0.30\n",
      "dim_7    0.38\n",
      "Name: PHE, dtype: float64}\n",
      "C:PHE:124:CE1 {'chain_id': 'C', 'residue_name': 'PHE', 'residue_number': 124, 'atom_type': 'CE1', 'element_symbol': 'C', 'coords': array([-4.259, 36.771, 44.864]), 'b_factor': 55.0, 'meiler': dim_1    2.94\n",
      "dim_2    0.29\n",
      "dim_3    5.89\n",
      "dim_4    1.79\n",
      "dim_5    5.67\n",
      "dim_6    0.30\n",
      "dim_7    0.38\n",
      "Name: PHE, dtype: float64}\n"
     ]
    }
   ],
   "source": [
    "for node, data in list(graph.nodes(data=True))[:9]:\n",
    "    print(node, data)"
   ]
  },
  {
   "cell_type": "code",
   "execution_count": null,
   "metadata": {},
   "outputs": [
    {
     "ename": "NameError",
     "evalue": "name 'graph' is not defined",
     "output_type": "error",
     "traceback": [
      "\u001b[0;31m---------------------------------------------------------------------------\u001b[0m",
      "\u001b[0;31mNameError\u001b[0m                                 Traceback (most recent call last)",
      "Cell \u001b[0;32mIn[2], line 6\u001b[0m\n\u001b[1;32m      2\u001b[0m \u001b[38;5;28;01mfrom\u001b[39;00m \u001b[38;5;21;01mgraphein\u001b[39;00m\u001b[38;5;21;01m.\u001b[39;00m\u001b[38;5;21;01mprotein\u001b[39;00m\u001b[38;5;21;01m.\u001b[39;00m\u001b[38;5;21;01msubgraphs\u001b[39;00m \u001b[38;5;28;01mimport\u001b[39;00m extract_subgraph_from_point\n\u001b[1;32m      5\u001b[0m \u001b[38;5;66;03m# выделение подграфа вокруг мутируемого остатка\u001b[39;00m\n\u001b[0;32m----> 6\u001b[0m subgraph \u001b[38;5;241m=\u001b[39m extract_subgraph_from_point(\u001b[43mgraph\u001b[49m, centre_point\u001b[38;5;241m=\u001b[39m(mut_center), radius\u001b[38;5;241m=\u001b[39m\u001b[38;5;241m10\u001b[39m)\n\u001b[1;32m      8\u001b[0m plotly_protein_structure_graph(subgraph, node_size_min\u001b[38;5;241m=\u001b[39m\u001b[38;5;241m4\u001b[39m, node_size_multiplier\u001b[38;5;241m=\u001b[39m\u001b[38;5;241m2\u001b[39m)\n",
      "\u001b[0;31mNameError\u001b[0m: name 'graph' is not defined"
     ]
    }
   ],
   "source": [
    "from graphein.protein.visualisation import plotly_protein_structure_graph\n",
    "from graphein.protein.subgraphs import extract_subgraph_from_point\n",
    "\n",
    "\n",
    "# выделение подграфа вокруг мутируемого остатка\n",
    "subgraph = extract_subgraph_from_point(graph, centre_point=(mut_center), radius=10)\n",
    "\n",
    "plotly_protein_structure_graph(subgraph, node_size_min=4, node_size_multiplier=2)"
   ]
  },
  {
   "cell_type": "code",
   "execution_count": 1,
   "metadata": {},
   "outputs": [
    {
     "ename": "NameError",
     "evalue": "name 'subgraph' is not defined",
     "output_type": "error",
     "traceback": [
      "\u001b[0;31m---------------------------------------------------------------------------\u001b[0m",
      "\u001b[0;31mNameError\u001b[0m                                 Traceback (most recent call last)",
      "Cell \u001b[0;32mIn[1], line 5\u001b[0m\n\u001b[1;32m      2\u001b[0m \u001b[38;5;28;01mfrom\u001b[39;00m \u001b[38;5;21;01mgraphein\u001b[39;00m\u001b[38;5;21;01m.\u001b[39;00m\u001b[38;5;21;01mprotein\u001b[39;00m\u001b[38;5;21;01m.\u001b[39;00m\u001b[38;5;21;01mgraphs\u001b[39;00m \u001b[38;5;28;01mimport\u001b[39;00m read_pdb_to_dataframe\n\u001b[1;32m      4\u001b[0m pdb_id \u001b[38;5;241m=\u001b[39m \u001b[38;5;124m'\u001b[39m\u001b[38;5;124m1ahw\u001b[39m\u001b[38;5;124m'\u001b[39m\n\u001b[0;32m----> 5\u001b[0m save_graph_to_pdb(\u001b[43msubgraph\u001b[49m, \u001b[38;5;124mf\u001b[39m\u001b[38;5;124m'\u001b[39m\u001b[38;5;124m./cutPDBs/\u001b[39m\u001b[38;5;132;01m{\u001b[39;00mpdb_id\u001b[38;5;132;01m}\u001b[39;00m\u001b[38;5;124m_cut.pdb\u001b[39m\u001b[38;5;124m'\u001b[39m)\n\u001b[1;32m      7\u001b[0m pdb_path\u001b[38;5;241m=\u001b[39m\u001b[38;5;124mf\u001b[39m\u001b[38;5;124m'\u001b[39m\u001b[38;5;124m./cutPDBs/1ahw_cut.pdb\u001b[39m\u001b[38;5;124m'\u001b[39m\n\u001b[1;32m      8\u001b[0m df \u001b[38;5;241m=\u001b[39m read_pdb_to_dataframe(pdb_path)\n",
      "\u001b[0;31mNameError\u001b[0m: name 'subgraph' is not defined"
     ]
    }
   ],
   "source": [
    "from graphein.protein.utils import save_graph_to_pdb\n",
    "from graphein.protein.graphs import read_pdb_to_dataframe\n",
    "\n",
    "pdb_id = '1ahw'\n",
    "save_graph_to_pdb(subgraph, f'./cutPDBs/{pdb_id}_cut.pdb')\n",
    "\n",
    "pdb_path=f'./cutPDBs/1ahw_cut.pdb'\n",
    "df = read_pdb_to_dataframe(pdb_path)\n",
    "df"
   ]
  },
  {
   "cell_type": "code",
   "execution_count": null,
   "metadata": {},
   "outputs": [
    {
     "data": {
      "text/plain": [
       "array([[0.00000000e+00, 1.27269360e+00, 1.25755557e+00, ...,\n",
       "        1.60493830e+01, 1.83720041e+01, 1.69634346e+01],\n",
       "       [1.27269360e+00, 0.00000000e+00, 2.22531818e+00, ...,\n",
       "        1.60176225e+01, 1.80948968e+01, 1.67239032e+01],\n",
       "       [1.25755557e+00, 2.22531818e+00, 0.00000000e+00, ...,\n",
       "        1.56269151e+01, 1.82722909e+01, 1.69115330e+01],\n",
       "       ...,\n",
       "       [1.60493830e+01, 1.60176225e+01, 1.56269151e+01, ...,\n",
       "        9.53674316e-07, 5.14692588e+00, 5.05378957e+00],\n",
       "       [1.83720041e+01, 1.80948968e+01, 1.82722909e+01, ...,\n",
       "        5.14692588e+00, 0.00000000e+00, 1.86091832e+00],\n",
       "       [1.69634346e+01, 1.67239032e+01, 1.69115330e+01, ...,\n",
       "        5.05378957e+00, 1.86091832e+00, 0.00000000e+00]])"
      ]
     },
     "execution_count": 174,
     "metadata": {},
     "output_type": "execute_result"
    }
   ],
   "source": [
    "# из датафрейма вытащить матрицу расстояний\n",
    "from graphein.molecule.edges.distance import compute_distmat\n",
    "coords = df.filter(like='_coord')\n",
    "coords\n",
    "\n",
    "distMatrix = compute_distmat(coords)\n",
    "distMatrix"
   ]
  },
  {
   "cell_type": "code",
   "execution_count": null,
   "metadata": {},
   "outputs": [
    {
     "ename": "NameError",
     "evalue": "name 'np' is not defined",
     "output_type": "error",
     "traceback": [
      "\u001b[0;31m---------------------------------------------------------------------------\u001b[0m",
      "\u001b[0;31mNameError\u001b[0m                                 Traceback (most recent call last)",
      "Cell \u001b[0;32mIn[15], line 4\u001b[0m\n\u001b[1;32m      1\u001b[0m \u001b[38;5;66;03m# потом эту матрицу подаем на вход функции которая выдает массив атомов которые находятся друг от друга на расстоянии r\u001b[39;00m\n\u001b[1;32m      2\u001b[0m \u001b[38;5;28;01mfrom\u001b[39;00m \u001b[38;5;21;01mgraphein\u001b[39;00m\u001b[38;5;21;01m.\u001b[39;00m\u001b[38;5;21;01mmolecule\u001b[39;00m\u001b[38;5;21;01m.\u001b[39;00m\u001b[38;5;21;01medges\u001b[39;00m\u001b[38;5;21;01m.\u001b[39;00m\u001b[38;5;21;01mdistance\u001b[39;00m \u001b[38;5;28;01mimport\u001b[39;00m get_interacting_atoms\n\u001b[0;32m----> 4\u001b[0m \u001b[43mnp\u001b[49m\u001b[38;5;241m.\u001b[39mset_printoptions(threshold\u001b[38;5;241m=\u001b[39m\u001b[38;5;241m200\u001b[39m)\n\u001b[1;32m      6\u001b[0m \u001b[38;5;28;01mdef\u001b[39;00m \u001b[38;5;21mget_interacting_atoms\u001b[39m(angstroms: \u001b[38;5;28mfloat\u001b[39m, distmat: pd\u001b[38;5;241m.\u001b[39mDataFrame):\n\u001b[1;32m      7\u001b[0m \u001b[38;5;250m    \u001b[39m\u001b[38;5;124;03m\"\"\"Find the atoms that are within a particular radius of one another.\"\"\"\u001b[39;00m\n",
      "\u001b[0;31mNameError\u001b[0m: name 'np' is not defined"
     ]
    }
   ],
   "source": [
    "# потом эту матрицу подаем на вход функции которая выдает массив атомов которые находятся друг от друга на расстоянии r\n",
    "from graphein.molecule.edges.distance import get_interacting_atoms\n",
    "\n",
    "np.set_printoptions(threshold=200)\n",
    "\n",
    "def get_interacting_atoms(angstroms: float, distmat: pd.DataFrame):\n",
    "    \"\"\"Find the atoms that are within a particular radius of one another.\"\"\"\n",
    "    return np.where(distmat <= angstroms, 0, 1)\n",
    "\n",
    "residue_environment_dist = 10\n",
    "Dmin = 0\n",
    "Dstep = 2\n",
    "Dmax = residue_environment_dist\n",
    "\n",
    "\n",
    "\n",
    "arr = get_interacting_atoms(10, distMatrix)\n",
    "\n",
    "from IPython.display import display\n",
    "import numpy as np\n",
    "frequency = np.sum(arr[arr != 0]) / 2\n",
    "print(frequency)\n",
    "\n",
    "# Пример создания и вывода большого массива\n",
    "display(arr)\n"
   ]
  },
  {
   "cell_type": "code",
   "execution_count": null,
   "metadata": {},
   "outputs": [
    {
     "data": {
      "text/plain": [
       "(array([0, 1]), array([0, 0]))"
      ]
     },
     "execution_count": 153,
     "metadata": {},
     "output_type": "execute_result"
    }
   ],
   "source": [
    "from graphein.protein.features.nodes.amino_acid import load_expasy_scales()\n",
    "graphein.protein.features.nodes.amino_acid.expasy_protein_scale"
   ]
  },
  {
   "cell_type": "code",
   "execution_count": null,
   "metadata": {},
   "outputs": [],
   "source": [
    "import graphein\n",
    "graphein.molecule.features.graph.molecule.mol_descriptors()"
   ]
  }
 ],
 "metadata": {
  "kernelspec": {
   "display_name": "base",
   "language": "python",
   "name": "python3"
  },
  "language_info": {
   "codemirror_mode": {
    "name": "ipython",
    "version": 3
   },
   "file_extension": ".py",
   "mimetype": "text/x-python",
   "name": "python",
   "nbconvert_exporter": "python",
   "pygments_lexer": "ipython3",
   "version": "3.10.13"
  }
 },
 "nbformat": 4,
 "nbformat_minor": 2
}
