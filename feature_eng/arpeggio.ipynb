{
 "cells": [
  {
   "cell_type": "markdown",
   "metadata": {},
   "source": [
    "Справка по arpeggio (нажать View as a scrollable element)"
   ]
  },
  {
   "cell_type": "code",
   "execution_count": 15,
   "metadata": {},
   "outputs": [
    {
     "name": "stdout",
     "output_type": "stream",
     "text": [
      "usage: pdbe-arpeggio [-h] [-s SELECTION [SELECTION ...] | -sf SELECTION_FILE]\n",
      "                     [-wh] [-mh] [-ms MINIMISATION_STEPS]\n",
      "                     [-mf {MMFF94,UFF,Ghemical}]\n",
      "                     [-mm {DistanceGeometry,SteepestDescent,ConjugateGradients}]\n",
      "                     [-co VDW_COMP] [-i INTERACTING] [-ph PH] [-sa] [-a]\n",
      "                     [-o OUTPUT] [-m]\n",
      "                     filename\n",
      "\n",
      "        ############\n",
      "        # ARPEGGIO #\n",
      "        ############\n",
      "\n",
      "        A library for calculating interatomic contacts in proteins\n",
      "\n",
      "        Dependencies:\n",
      "        - Python >= 3.6\n",
      "        - Numpy\n",
      "        - BioPython >= v1.80\n",
      "        - Open Babel >= 3.0.0\n",
      "        - gemmi >= 0.5.8\n",
      "\n",
      "        \n",
      "\n",
      "positional arguments:\n",
      "  filename              Path to the file to be analysed.\n",
      "\n",
      "optional arguments:\n",
      "  -h, --help            show this help message and exit\n",
      "  -s SELECTION [SELECTION ...], --selection SELECTION [SELECTION ...]\n",
      "                        Select the \"ligand\" for interactions, using selection syntax: /<chain_id>/<res_num>[<ins_code>]/<atom_name> or RESNAME:<het_id>. Fields can be omitted.\n",
      "  -sf SELECTION_FILE, --selection-file SELECTION_FILE\n",
      "                        Selections as above, but listed in a file.\n",
      "  -wh, --write-hydrogenated\n",
      "                        Write an output file including the added hydrogen coordinates.\n",
      "  -mh, --minimise-hydrogens\n",
      "                        Energy minimise OpenBabel added hydrogens.\n",
      "  -ms MINIMISATION_STEPS, --minimisation-steps MINIMISATION_STEPS\n",
      "                        Number of hydrogen minimisation steps to perform.\n",
      "  -mf {MMFF94,UFF,Ghemical}, --minimisation-forcefield {MMFF94,UFF,Ghemical}\n",
      "                        Choose the forcefield to minimise hydrogens with. Ghemical is not recommended.\n",
      "  -mm {DistanceGeometry,SteepestDescent,ConjugateGradients}, --minimisation-method {DistanceGeometry,SteepestDescent,ConjugateGradients}\n",
      "                        Choose the method to minimise hydrogens with. ConjugateGradients is recommended.\n",
      "  -co VDW_COMP, --vdw-comp VDW_COMP\n",
      "                        Compensation factor for VdW radii dependent interaction types.\n",
      "  -i INTERACTING, --interacting INTERACTING\n",
      "                        Distance cutoff for grid points to be 'interacting' with the entity.\n",
      "  -ph PH                pH for hydrogen addition.\n",
      "  -sa, --include-sequence-adjacent\n",
      "                        For intra-polypeptide interactions, include non-bonding interactions between residues that are next to each other in sequence; this is not done by default.\n",
      "  -a, --use-ambiguities\n",
      "                        Turn on abiguous definitions for ambiguous contacts.\n",
      "  -o OUTPUT, --output OUTPUT\n",
      "                        Define output directory.\n",
      "  -m, --mute            Silent mode without debug info.\n",
      "\n"
     ]
    }
   ],
   "source": [
    "%%bash\n",
    "conda run -n arpeggio-env pdbe-arpeggio -h"
   ]
  },
  {
   "cell_type": "markdown",
   "metadata": {},
   "source": [
    "С помощью open babel конвертирую окружение вокруг остатка в формат .cif ?заодно добавляю водороды?"
   ]
  },
  {
   "cell_type": "code",
   "execution_count": 6,
   "metadata": {},
   "outputs": [
    {
     "name": "stderr",
     "output_type": "stream",
     "text": [
      "==============================\n",
      "*** Open Babel Warning  in PerceiveBondOrders\n",
      "  Failed to kekulize aromatic bonds in OBMol::PerceiveBondOrders (title is ./PDBs/1FC2.pdb)\n",
      "\n",
      "1 molecule converted\n",
      "\n"
     ]
    }
   ],
   "source": [
    "%%bash\n",
    "mkdir -p ./cutCIFs/\n",
    "conda run -n arpeggio-env obabel './PDBs/1FC2.pdb' -O './cutCIFs/1FC2_F149A.mmcif' # -h"
   ]
  },
  {
   "cell_type": "markdown",
   "metadata": {},
   "source": [
    "В статье mCSM-AB2 написано, что брали interatomic contacts, но не указано какие атомы. Полагаю, что между атомами мутируемой АК и всем остальным вокруг (включая цепь, на которой АК сидит). То есть нужно эту аминокислоту указать как 'лиганд' c опцией -s . Про -pH, возможно стоит добавить "
   ]
  },
  {
   "cell_type": "code",
   "execution_count": 23,
   "metadata": {},
   "outputs": [],
   "source": [
    "pH = 7\n",
    "chain = C\n",
    "aa_num = 149"
   ]
  },
  {
   "cell_type": "code",
   "execution_count": 3,
   "metadata": {},
   "outputs": [
    {
     "name": "stdout",
     "output_type": "stream",
     "text": [
      "INFO//11:53:11.965//Program begin.\n",
      "INFO//11:53:11.965//Selection perceived: ['/C/149']\n",
      "Traceback (most recent call last):\n",
      "  File \"/Users/chekalin/miniforge3/envs/arpeggio-env/lib/python3.9/site-packages/arpeggio/core/protein_reader.py\", line 291, in read_mmcif_to_biopython\n",
      "    _parse_atom_site_biopython(_atom_site, structure_builder)\n",
      "  File \"/Users/chekalin/miniforge3/envs/arpeggio-env/lib/python3.9/site-packages/arpeggio/core/protein_reader.py\", line 377, in _parse_atom_site_biopython\n",
      "    for i in range(len(atom_sites[\"id\"])):\n",
      "KeyError: 'id'\n",
      "\n",
      "During handling of the above exception, another exception occurred:\n",
      "\n",
      "Traceback (most recent call last):\n",
      "  File \"/Users/chekalin/miniforge3/envs/arpeggio-env/bin/pdbe-arpeggio\", line 8, in <module>\n",
      "    sys.exit(main())\n",
      "  File \"/Users/chekalin/miniforge3/envs/arpeggio-env/lib/python3.9/site-packages/arpeggio/scripts/process_protein_cli.py\", line 150, in main\n",
      "    run_arpeggio(args)\n",
      "  File \"/Users/chekalin/miniforge3/envs/arpeggio-env/lib/python3.9/site-packages/arpeggio/scripts/process_protein_cli.py\", line 159, in run_arpeggio\n",
      "    i_complex = InteractionComplex(\n",
      "  File \"/Users/chekalin/miniforge3/envs/arpeggio-env/lib/python3.9/site-packages/arpeggio/core/interactions.py\", line 53, in __init__\n",
      "    self.biopython_str = self._read_in_biopython(filename)\n",
      "  File \"/Users/chekalin/miniforge3/envs/arpeggio-env/lib/python3.9/site-packages/arpeggio/core/interactions.py\", line 2032, in _read_in_biopython\n",
      "    else protein_reader.read_mmcif_to_biopython(path))\n",
      "  File \"/Users/chekalin/miniforge3/envs/arpeggio-env/lib/python3.9/site-packages/arpeggio/core/protein_reader.py\", line 293, in read_mmcif_to_biopython\n",
      "    raise ValueError(\"The cif file does not contain _atom_site record\")\n",
      "ValueError: The cif file does not contain _atom_site record\n",
      "\n",
      "ERROR conda.cli.main_run:execute(124): `conda run pdbe-arpeggio -s /C/149 -o ./out/ /Users/chekalin/Desktop/AffinityTool/feature_eng/cutCIFs/1FC2_F149A_cut.mmcif` failed. (See above for error)\n"
     ]
    }
   ],
   "source": [
    "# !conda run -n arpeggio-env pdbe-arpeggio -s /{chain}/{aa_num} -pH {pH} -o out/ './cutCIFs/1FC2_F149A_cut.cif'\n",
    "!conda run -n arpeggio-env pdbe-arpeggio -s /C/149 -o ./out/ '/Users/chekalin/Desktop/AffinityTool/feature_eng/cutCIFs/1FC2_F149A_cut.mmcif'"
   ]
  }
 ],
 "metadata": {
  "kernelspec": {
   "display_name": "arpeggio-env",
   "language": "python",
   "name": "python3"
  },
  "language_info": {
   "codemirror_mode": {
    "name": "ipython",
    "version": 3
   },
   "file_extension": ".py",
   "mimetype": "text/x-python",
   "name": "python",
   "nbconvert_exporter": "python",
   "pygments_lexer": "ipython3",
   "version": "3.10.13"
  }
 },
 "nbformat": 4,
 "nbformat_minor": 2
}
