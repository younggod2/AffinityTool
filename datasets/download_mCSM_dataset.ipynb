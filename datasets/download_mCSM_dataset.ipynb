{
 "cells": [
  {
   "cell_type": "markdown",
   "metadata": {},
   "source": [
    "Скачаем все .pdb файлы белков из mCSM-AB2 датасета (чтобы проверить сколько из них доступно, и просто на всякий случай)"
   ]
  },
  {
   "cell_type": "code",
   "execution_count": 2,
   "metadata": {},
   "outputs": [],
   "source": [
    "import os\n",
    "import pandas as pd\n",
    "from Bio.PDB import PDBList"
   ]
  },
  {
   "cell_type": "code",
   "execution_count": 3,
   "metadata": {},
   "outputs": [
    {
     "name": "stdout",
     "output_type": "stream",
     "text": [
      "1AHW\n"
     ]
    }
   ],
   "source": [
    "def download_pdb(pdb_id):\n",
    "    pdb_list = PDBList()\n",
    "    pdb_list.retrieve_pdb_file(pdb_id, pdir=\"./PDBs\", file_format=\"pdb\")\n",
    "    ent_filename = f\"./PDBs/pdb{pdb_id}.ent\"\n",
    "    pdb_filename = f\"./PDBs/{pdb_id}.pdb\"\n",
    "    os.rename(ent_filename, pdb_filename)\n",
    "\n",
    "\n",
    "for pdb_id in pd.read_csv('../datasets/mCSM-AB2_dataset.csv')['PDB'].unique():\n",
    "    download_pdb(pdb_id)"
   ]
  }
 ],
 "metadata": {
  "kernelspec": {
   "display_name": "base",
   "language": "python",
   "name": "python3"
  },
  "language_info": {
   "codemirror_mode": {
    "name": "ipython",
    "version": 3
   },
   "file_extension": ".py",
   "mimetype": "text/x-python",
   "name": "python",
   "nbconvert_exporter": "python",
   "pygments_lexer": "ipython3",
   "version": "3.10.13"
  }
 },
 "nbformat": 4,
 "nbformat_minor": 2
}
