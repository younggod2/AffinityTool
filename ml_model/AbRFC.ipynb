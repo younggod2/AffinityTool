{
 "cells": [
  {
   "cell_type": "markdown",
   "metadata": {},
   "source": [
    "Реализую модель на основе кода из статьи Enhancing antibody affinity... — [github](https://github.com/tbc01/AbRFC/blob/main/data/train/Xtrain.csv)"
   ]
  },
  {
   "cell_type": "code",
   "execution_count": null,
   "metadata": {},
   "outputs": [],
   "source": [
    "def fitAbRFC(x_train,y_train,clf_params,n_jobs=8):\n",
    "    #fits a random forest classifier (AbRFC)\n",
    "    #ytrain is the classification label (0=deleterious, 1=non-deleterious)\n",
    "    #IterativeImputer is used for aif_score on non-ab/ag PPI\n",
    "    #StandardScaler is not needed for tree-based models but it is used for consistency\"\"\"\n",
    "    clf_params['n_jobs'] = n_jobs\n",
    "    clf = make_pipeline(IterativeImputer(max_iter=10),StandardScaler(),RandomForestClassifier(**clf_params))\n",
    "    clf.fit(x_train,y_train)\n",
    "    return clf"
   ]
  },
  {
   "cell_type": "code",
   "execution_count": null,
   "metadata": {},
   "outputs": [],
   "source": [
    "def fitAbRFR(x_train,y_train,reg_params,n_jobs=8):\n",
    "    #identical to fitAbRFC but for regression\n",
    "    #ytrain is the ddG value or equivalent\n",
    "    reg_params['n_jobs'] = n_jobs\n",
    "    reg = make_pipeline(IterativeImputer(max_iter=10),StandardScaler(),RandomForestRegressor(**reg_params))\n",
    "    reg.fit(x_train,y_train)\n",
    "    return reg"
   ]
  },
  {
   "cell_type": "code",
   "execution_count": null,
   "metadata": {},
   "outputs": [],
   "source": [
    "def applyAbRFC(x_test,clf):\n",
    "    #x_test is the test set with the same features as the training set\n",
    "    #clf is the pipeline object that has been returned by fitAbRFC\n",
    "    return clf.predict_proba(x_test)[:,1]"
   ]
  },
  {
   "cell_type": "code",
   "execution_count": null,
   "metadata": {},
   "outputs": [],
   "source": [
    "def applyAbRFR(x_test,reg):\n",
    "    #x_test is the test set with the same features as the training set\n",
    "    #reg is the pipeline object that has been returned by fitAbRFR\n",
    "    return reg.predict(x_test)"
   ]
  }
 ],
 "metadata": {
  "language_info": {
   "name": "python"
  }
 },
 "nbformat": 4,
 "nbformat_minor": 2
}
